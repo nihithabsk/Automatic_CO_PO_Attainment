{
  "nbformat": 4,
  "nbformat_minor": 0,
  "metadata": {
    "colab": {
      "provenance": [],
      "authorship_tag": "ABX9TyPNA0XFVw4oUVV5T++WoYAK",
      "include_colab_link": true
    },
    "kernelspec": {
      "name": "python3",
      "display_name": "Python 3"
    },
    "language_info": {
      "name": "python"
    }
  },
  "cells": [
    {
      "cell_type": "markdown",
      "metadata": {
        "id": "view-in-github",
        "colab_type": "text"
      },
      "source": [
        "<a href=\"https://colab.research.google.com/github/nihithabsk/Automatic_CO_PO_Attainment/blob/main/CO_PO_final.ipynb\" target=\"_parent\"><img src=\"https://colab.research.google.com/assets/colab-badge.svg\" alt=\"Open In Colab\"/></a>"
      ]
    },
    {
      "cell_type": "code",
      "source": [
        "import pandas as pd\n",
        "\n",
        "file_path = \"docs.xlsx\"\n",
        "sheet_name = 'DSP_2020_24_Asec_mid2'\n",
        "\n",
        "def cal(file_path, sheet_name, class_strength):\n",
        "    df = pd.read_excel(file_path, sheet_name=sheet_name, header=0)\n",
        "\n",
        "    def get_user_defined_co_mappings():\n",
        "        co_mapping = {}\n",
        "        while True:\n",
        "            co_name = input(\"Enter CO name (e.g., 'Course Outcome 1') or type 'done' to finish: \").strip()\n",
        "            if co_name.lower() == 'done':\n",
        "                break\n",
        "            questions = input(f\"Enter the columns (comma-separated) for {co_name}: \").split(',')\n",
        "            co_mapping[co_name] = [q.strip() for q in questions]\n",
        "        return co_mapping\n",
        "\n",
        "    co_mapping = get_user_defined_co_mappings()\n",
        "    max_marks = df.iloc[0]\n",
        "    df.columns = df.columns.str.strip()\n",
        "    highest_marks = {}\n",
        "    for co, questions in co_mapping.items():\n",
        "        marks = 0\n",
        "        for q in questions:\n",
        "            if q in df.columns:\n",
        "                max_mark = df.loc[df['Parameters'] == 'Max Marks', q]\n",
        "                if not max_mark.empty:\n",
        "                    marks += max_mark.values[0]\n",
        "        highest_marks[co] = marks\n",
        "\n",
        "    student_rows = df[df['Parameters'] != 'Max Marks'].copy()\n",
        "    student_rows.dropna(axis=1, how='all', inplace=True)\n",
        "    student_rows.reset_index(drop=True, inplace=True)\n",
        "\n",
        "    for co, questions in co_mapping.items():\n",
        "        for q in questions:\n",
        "            student_rows[q] = pd.to_numeric(student_rows[q], errors='coerce')\n",
        "\n",
        "    student_scores = pd.DataFrame(student_rows['Parameters'])\n",
        "    for co, questions in co_mapping.items():\n",
        "        student_scores[co] = student_rows[questions].sum(axis=1)\n",
        "\n",
        "    student_scores.rename(columns={'Parameters': 'Student'}, inplace=True)\n",
        "\n",
        "    renaming_map = {co: co.replace(' ', '_') for co in co_mapping.keys()}\n",
        "\n",
        "    for co in co_mapping.keys():\n",
        "        student_scores.rename(columns={co: renaming_map[co]}, inplace=True)\n",
        "        student_scores.rename(columns={f'{co} Percentage': f'{renaming_map[co]}_Percentage'}, inplace=True)\n",
        "\n",
        "    for co in co_mapping.keys():\n",
        "        percentage_column = f'{renaming_map[co]}_Percentage'\n",
        "        student_scores[percentage_column] = (student_scores[renaming_map[co]] / highest_marks[co]) * 100\n",
        "\n",
        "    questions = [q for questions in co_mapping.values() for q in questions]\n",
        "    student_question_scores = student_rows.copy()\n",
        "\n",
        "    # Ensure 'Student' column is present before setting it as index\n",
        "    if 'Student' not in student_question_scores.columns:\n",
        "        student_question_scores['Student'] = student_rows['Parameters']\n",
        "    student_question_scores.set_index('Student', inplace=True)\n",
        "\n",
        "    question_columns = [q for questions in co_mapping.values() for q in questions]\n",
        "    student_question_scores = student_question_scores[question_columns]\n",
        "    student_question_scores = student_question_scores.iloc[:-17]\n",
        "\n",
        "    stud_marks_in_each_ques = {col.strip(): student_question_scores[col].sum() for col in student_question_scores.columns}\n",
        "\n",
        "    max_marks.index = max_marks.index.str.strip()\n",
        "    marks_studA = {}\n",
        "    marks_studB = {}\n",
        "    for ques, sm in stud_marks_in_each_ques.items():\n",
        "        ques = ques.strip()\n",
        "        if ques in max_marks.index:\n",
        "            marks_studA[ques] = max_marks[ques] * class_strength\n",
        "            marks_studB[ques] = sm\n",
        "\n",
        "    percentage_of_attainment = {}\n",
        "    for ques in marks_studA.keys():\n",
        "        percentage_of_attainment[ques] = (marks_studB[ques] / marks_studA[ques]) * 100\n",
        "\n",
        "    avg_cos = {}\n",
        "    for co in co_mapping.keys():\n",
        "        sumb = 0\n",
        "        suma = 0\n",
        "        for q in co_mapping[co]:\n",
        "            q = q.strip()\n",
        "            sumb += marks_studB[q]\n",
        "            suma += marks_studA[q]\n",
        "        avg_cos[co] = (sumb / suma) * 100\n",
        "\n",
        "    threshold_of_cos = {co: avg * (30 / 40) for co, avg in avg_cos.items()}\n",
        "\n",
        "    student_scores = student_scores.iloc[:-17]\n",
        "\n",
        "    students_above_threshold = {}\n",
        "    for co, threshold in threshold_of_cos.items():\n",
        "        percentage_column = f'{renaming_map[co]}_Percentage'\n",
        "        if percentage_column in student_scores.columns:\n",
        "            count_above_threshold = (student_scores[percentage_column] > threshold).sum()\n",
        "            students_above_threshold[co] = count_above_threshold\n",
        "        else:\n",
        "            print(f\"Percentage column for {co} not found in student_scores.\")\n",
        "\n",
        "    percentage_above_threshold = {}\n",
        "    for co, count in students_above_threshold.items():\n",
        "        percentage_above_threshold[co] = (count / class_strength) * 100\n",
        "\n",
        "    avg = sum(percentage_above_threshold.values()) / len(percentage_above_threshold)\n",
        "\n",
        "    if avg < 60:\n",
        "        ans = \"Level 0\"\n",
        "    elif 60 <= avg <= 70:\n",
        "        ans = \"Level 1\"\n",
        "    elif 70 < avg <= 80:\n",
        "        ans = \"Level 2\"\n",
        "    else:\n",
        "        ans = \"Level 3\"\n",
        "\n",
        "    return avg, ans\n",
        "\n",
        "# Running the function\n",
        "cal(file_path, sheet_name, 66)\n"
      ],
      "metadata": {
        "colab": {
          "base_uri": "https://localhost:8080/"
        },
        "id": "Mf5oxZYJt8_y",
        "outputId": "27b17eb0-0621-490c-cd89-3e372bf056a5"
      },
      "execution_count": 34,
      "outputs": [
        {
          "name": "stdout",
          "output_type": "stream",
          "text": [
            "Enter CO name (e.g., 'Course Outcome 1') or type 'done' to finish: Course Outcome 3\n",
            "Enter the columns (comma-separated) for Course Outcome 3: 1a,1b,1c,1d,1e,1f,2a,2b,3a,3b,4a,4b,A1\n",
            "Enter CO name (e.g., 'Course Outcome 1') or type 'done' to finish: Course Outcome 4\n",
            "Enter the columns (comma-separated) for Course Outcome 4: 1g,1h,1i,1j,5a,5b,6a,A2\n",
            "Enter CO name (e.g., 'Course Outcome 1') or type 'done' to finish: Course Outcome 5\n",
            "Enter the columns (comma-separated) for Course Outcome 5: 6b,A3\n",
            "Enter CO name (e.g., 'Course Outcome 1') or type 'done' to finish: done\n"
          ]
        },
        {
          "output_type": "execute_result",
          "data": {
            "text/plain": [
              "(71.71717171717171, 'Level 2')"
            ]
          },
          "metadata": {},
          "execution_count": 34
        }
      ]
    }
  ]
}